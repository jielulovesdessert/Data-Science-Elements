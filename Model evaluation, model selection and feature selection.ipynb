{
 "cells": [
  {
   "cell_type": "code",
   "execution_count": 1,
   "metadata": {
    "collapsed": true
   },
   "outputs": [],
   "source": [
    "import numpy as np\n",
    "import pandas as pd\n",
    "\n",
    "import matplotlib.pylab as plt\n",
    "import seaborn as sns\n",
    "\n",
    "%matplotlib inline"
   ]
  },
  {
   "cell_type": "markdown",
   "metadata": {},
   "source": [
    "## Part 1: Regression"
   ]
  },
  {
   "cell_type": "markdown",
   "metadata": {},
   "source": [
    "Here we try to build a model to predict adjusted sales price from a set of building features."
   ]
  },
  {
   "cell_type": "markdown",
   "metadata": {},
   "source": [
    "### Load and transform data"
   ]
  },
  {
   "cell_type": "code",
   "execution_count": 2,
   "metadata": {
    "collapsed": true
   },
   "outputs": [],
   "source": [
    "# Load data from file\n",
    "infile_name = '../data/house_sales_subset.csv'\n",
    "df = pd.read_csv(infile_name)"
   ]
  },
  {
   "cell_type": "code",
   "execution_count": 3,
   "metadata": {
    "collapsed": true
   },
   "outputs": [],
   "source": [
    "# Use a subset of the columns as features\n",
    "X = df[['SqFtTotLiving','SqFtLot','Bathrooms','Bedrooms','BldgGrade']]"
   ]
  },
  {
   "cell_type": "code",
   "execution_count": 4,
   "metadata": {
    "collapsed": true
   },
   "outputs": [],
   "source": [
    "# Extract the target, adjusted sale price\n",
    "# Note: the '_r' here is denote the different targets for regression and classification\n",
    "y_r = df.AdjSalePrice"
   ]
  },
  {
   "cell_type": "code",
   "execution_count": 5,
   "metadata": {
    "collapsed": true
   },
   "outputs": [],
   "source": [
    "# Split into 80% train and 20% test using train_test_split\n",
    "from sklearn.model_selection import train_test_split\n",
    "\n",
    "X_train_r, X_test_r, y_train_r, y_test_r = train_test_split(X, y_r, test_size=.2)"
   ]
  },
  {
   "cell_type": "markdown",
   "metadata": {},
   "source": [
    "### Measure baseline performance"
   ]
  },
  {
   "cell_type": "code",
   "execution_count": 6,
   "metadata": {
    "collapsed": true
   },
   "outputs": [],
   "source": [
    "# Train dummy model using DummyRegressor on the training set\n",
    "from sklearn.dummy import DummyRegressor\n",
    "\n",
    "dummy_r = DummyRegressor(strategy='mean').fit(X_train_r,y_train_r)"
   ]
  },
  {
   "cell_type": "code",
   "execution_count": 7,
   "metadata": {},
   "outputs": [
    {
     "name": "stdout",
     "output_type": "stream",
     "text": [
      "dummy RMSE: 389898.752\n"
     ]
    }
   ],
   "source": [
    "# Calculate and print RMSE of the dummy model on the training set \n",
    "from sklearn.metrics import mean_squared_error\n",
    "\n",
    "y_dummy_r = dummy_r.predict(X_train_r)\n",
    "dummy_r_training_rsme = np.sqrt(mean_squared_error(y_train_r,y_dummy_r))\n",
    "\n",
    "print('dummy RMSE: {:.3f}'.format(dummy_r_training_rsme))"
   ]
  },
  {
   "cell_type": "code",
   "execution_count": 8,
   "metadata": {},
   "outputs": [
    {
     "name": "stdout",
     "output_type": "stream",
     "text": [
      "dummy r2: 0.000\n"
     ]
    }
   ],
   "source": [
    "# Calculate and print R2 of the dummy model on training set\n",
    "# hint: can use models 'score' function\n",
    "# note: why is this 0?\n",
    "dummy_r_training_r2 = dummy_r.score(X_train_r, y_train_r)\n",
    "print('dummy r2: {:.3f}'.format(dummy_r_training_r2))"
   ]
  },
  {
   "cell_type": "markdown",
   "metadata": {},
   "source": [
    "### Measure performance of Simple Linear Model"
   ]
  },
  {
   "cell_type": "code",
   "execution_count": 9,
   "metadata": {
    "collapsed": true
   },
   "outputs": [],
   "source": [
    "# Instantiate and train a simple LinearRegression model on the training set\n",
    "from sklearn.linear_model import LinearRegression\n",
    "\n",
    "lr_r = LinearRegression().fit(X_train_r,y_train_r)"
   ]
  },
  {
   "cell_type": "code",
   "execution_count": 10,
   "metadata": {},
   "outputs": [
    {
     "name": "stdout",
     "output_type": "stream",
     "text": [
      "simple linear RMSE: 264637.036\n",
      "simple linear r2: 0.539\n"
     ]
    }
   ],
   "source": [
    "# Calculate RMSE and R2 of simple linear model on training set\n",
    "# Note the improvement over the dummy model\n",
    "lr_r_rmse = np.sqrt(mean_squared_error(y_train_r,lr_r.predict(X_train_r)))\n",
    "lr_r_r2 = lr_r.score(X_train_r,y_train_r)\n",
    "print('simple linear RMSE: {:.3f}'.format(lr_r_rmse))\n",
    "print('simple linear r2: {:.3f}'.format(lr_r_r2))"
   ]
  },
  {
   "cell_type": "code",
   "execution_count": 11,
   "metadata": {},
   "outputs": [
    {
     "name": "stdout",
     "output_type": "stream",
     "text": [
      "simple linear mean cv r2: 0.542\n"
     ]
    }
   ],
   "source": [
    "# Calculate mean 5-fold Cross Validation R2 score of simple linear model on the training set using cross_val_score\n",
    "# Note that in this case the difference in R2 cv score on the R2 on the full training set is small\n",
    "from sklearn.model_selection import cross_val_score\n",
    "\n",
    "scores = cross_val_score(LinearRegression(), X_train_r , y_train_r , cv= 5)\n",
    "\n",
    "print('simple linear mean cv r2: {:.3f}'.format(np.mean(scores)))"
   ]
  },
  {
   "cell_type": "markdown",
   "metadata": {},
   "source": [
    "### Model selection"
   ]
  },
  {
   "cell_type": "code",
   "execution_count": 12,
   "metadata": {
    "collapsed": true
   },
   "outputs": [],
   "source": [
    "# Create a pipeline using make_pipeline to generate polynomial models\n",
    "# There should be two steps: PolynomalFeatures then LinearRegression\n",
    "# Recall: using PolynomialFeatures, we do not need to fit an intercept in the LinearRegression step\n",
    "from sklearn.preprocessing import PolynomialFeatures\n",
    "from sklearn.pipeline import make_pipeline\n",
    "\n",
    "poly_pipeline = make_pipeline(PolynomialFeatures(degree=5),\n",
    "                              LinearRegression(fit_intercept=False))"
   ]
  },
  {
   "cell_type": "code",
   "execution_count": 13,
   "metadata": {
    "collapsed": true
   },
   "outputs": [],
   "source": [
    "# Perform GridSearch over different polynomial degrees in [1,2,3,4] using the training set\n",
    "# To do this, instantiate and fit GridSearchCV on our poly_pipeline model and params set \n",
    "# hint: \"polynomialfeatures__degree\" is the parameter of interest\n",
    "from sklearn.model_selection import GridSearchCV\n",
    "\n",
    "params = {'polynomialfeatures__degree':[1,2,3,4]}\n",
    "gs = GridSearchCV(poly_pipeline,params).fit(X_train_r,y_train_r)"
   ]
  },
  {
   "cell_type": "code",
   "execution_count": 14,
   "metadata": {},
   "outputs": [
    {
     "name": "stdout",
     "output_type": "stream",
     "text": [
      "gs best r2 score : 0.629\n",
      "gs best params   : {'polynomialfeatures__degree': 2}\n"
     ]
    }
   ],
   "source": [
    "# Print out the best score found and the best parameter setting found\n",
    "print('gs best r2 score : {:.3f}'.format(gs.best_estimator_.score(X_train_r,y_train_r)))\n",
    "print('gs best params   : {}'.format(gs.best_params_))"
   ]
  },
  {
   "cell_type": "code",
   "execution_count": 15,
   "metadata": {},
   "outputs": [
    {
     "name": "stdout",
     "output_type": "stream",
     "text": [
      "polynomial training RMSE: 237416.201\n",
      "polynomial training R2  : 0.629\n"
     ]
    }
   ],
   "source": [
    "# Retrain poly_pipeline using the best parameter setting found above on the entire training set\n",
    "# Print the RMSE and R2 of the new model on the training set\n",
    "\n",
    "poly_pipeline.set_params(**{'polynomialfeatures__degree':2}).fit(X_train_r,y_train_r)\n",
    "\n",
    "poly_train_rmse = np.sqrt(mean_squared_error(y_train_r,poly_pipeline.predict(X_train_r)))\n",
    "poly_train_r2 = poly_pipeline.score(X_train_r,y_train_r)\n",
    "\n",
    "print('polynomial training RMSE: {:.3f}'.format(poly_train_rmse))\n",
    "print('polynomial training R2  : {:.3f}'.format(poly_train_r2))"
   ]
  },
  {
   "cell_type": "code",
   "execution_count": 16,
   "metadata": {
    "collapsed": true
   },
   "outputs": [],
   "source": [
    "# Using the newly trained model, get predictions on the full training set\n",
    "y_hat = poly_pipeline.predict(X_train_r)"
   ]
  },
  {
   "cell_type": "code",
   "execution_count": 17,
   "metadata": {},
   "outputs": [
    {
     "data": {
      "image/png": "[encoded data removed]",
      "text/plain": [
       "<matplotlib.figure.Figure at 0x12981126898>"
      ]
     },
     "metadata": {},
     "output_type": "display_data"
    }
   ],
   "source": [
    "# Plot predictions (x-axis) vs residuals (y-axis) of the training set\n",
    "# recall: residual = y_hat - ground_truth_y\n",
    "\n",
    "residuals = y_hat-y_train_r\n",
    "_ = plt.scatter(y_hat,residuals,alpha=0.2)\n",
    "_ = plt.xlabel('y predicted')\n",
    "_ = plt.ylabel('residuals')\n",
    "# if this were a real analysis, we may want to address any of the outliers we see here\n",
    "# also you should be seeing some signs of heteroskedasticity here"
   ]
  },
  {
   "cell_type": "markdown",
   "metadata": {},
   "source": [
    "### Evaluate trained model on Test"
   ]
  },
  {
   "cell_type": "code",
   "execution_count": 18,
   "metadata": {},
   "outputs": [
    {
     "name": "stdout",
     "output_type": "stream",
     "text": [
      "test RMSE: 232289.145\n",
      "test r2  : 0.599\n"
     ]
    }
   ],
   "source": [
    "# Using our trained model, calculate R2 and RMSE on the test set\n",
    "# Note that error may have gone up slightly and r2 may have decreased slightly\n",
    "print('test RMSE: {:.3f}'.format(np.sqrt(mean_squared_error(y_test_r,poly_pipeline.predict(X_test_r)))))\n",
    "print('test r2  : {:.3f}'.format(poly_pipeline.score(X_test_r,y_test_r)))"
   ]
  },
  {
   "cell_type": "markdown",
   "metadata": {},
   "source": [
    "### Feature selection"
   ]
  },
  {
   "cell_type": "code",
   "execution_count": 19,
   "metadata": {
    "collapsed": true
   },
   "outputs": [],
   "source": [
    "# Select the top 2 most informative features from the trained model using SelectKBest and f_regression\n",
    "# To do this, instantiate and fit SelectKbest on the training set\n",
    "from sklearn.feature_selection import SelectKBest, f_regression\n",
    "\n",
    "skb = SelectKBest(f_regression, k=2).fit(X_train_r,y_train_r)"
   ]
  },
  {
   "cell_type": "code",
   "execution_count": 20,
   "metadata": {},
   "outputs": [
    {
     "name": "stdout",
     "output_type": "stream",
     "text": [
      "kept columns: ['SqFtTotLiving', 'BldgGrade']\n"
     ]
    }
   ],
   "source": [
    "# Print out the selected features using skb.get_support() and the column names from X\n",
    "# hint: get_support returns a boolean mask\n",
    "kept_columns = list(X.columns[skb.get_support()])\n",
    "print('kept columns: {}'.format(kept_columns))"
   ]
  },
  {
   "cell_type": "markdown",
   "metadata": {},
   "source": [
    "---"
   ]
  },
  {
   "cell_type": "markdown",
   "metadata": {},
   "source": [
    "## Part 2: Classification"
   ]
  },
  {
   "cell_type": "markdown",
   "metadata": {},
   "source": [
    "Here we try to build a model to predict low vs. high adjusted sales price."
   ]
  },
  {
   "cell_type": "markdown",
   "metadata": {},
   "source": [
    "## Create classification target"
   ]
  },
  {
   "cell_type": "code",
   "execution_count": 21,
   "metadata": {},
   "outputs": [
    {
     "name": "stdout",
     "output_type": "stream",
     "text": [
      "proportion of low to high: 0.500\n"
     ]
    }
   ],
   "source": [
    "# Here we create a binary target by thresholding at the AdjSalePriceMedian\n",
    "y_c = (df.AdjSalePrice > df.AdjSalePrice.median()).astype(int)\n",
    "\n",
    "print('proportion of low to high: {:.3f}'.format(sum(y_c)/float(len(y_c))))"
   ]
  },
  {
   "cell_type": "code",
   "execution_count": 22,
   "metadata": {
    "collapsed": true
   },
   "outputs": [],
   "source": [
    "# Split into 80% train and 20% test using train_test_split\n",
    "# Use our new y_c target and the same X we used for regression\n",
    "X_train_c, X_test_c, y_train_c, y_test_c = train_test_split(X, y_c, test_size=.2)"
   ]
  },
  {
   "cell_type": "markdown",
   "metadata": {},
   "source": [
    "### Measure baseline performance"
   ]
  },
  {
   "cell_type": "code",
   "execution_count": 23,
   "metadata": {
    "collapsed": true
   },
   "outputs": [],
   "source": [
    "# Train a dummy classification model on the training set\n",
    "from sklearn.dummy import DummyClassifier\n",
    "\n",
    "dummy_c =  DummyClassifier(strategy='most_frequent').fit(X_train_c,y_train_c)"
   ]
  },
  {
   "cell_type": "code",
   "execution_count": 24,
   "metadata": {},
   "outputs": [
    {
     "name": "stdout",
     "output_type": "stream",
     "text": [
      "dummy accuracy: 0.503\n"
     ]
    }
   ],
   "source": [
    "# Calculate Training set Accuracy of the dummy classifier\n",
    "# This should match the proportion of low to high\n",
    "dummy_c_acc = dummy_c.score(X_train_c,y_train_c)\n",
    "\n",
    "print('dummy accuracy: {:.3f}'.format(dummy_c_acc))"
   ]
  },
  {
   "cell_type": "markdown",
   "metadata": {},
   "source": [
    "### Measure performance of a Random Forest model"
   ]
  },
  {
   "cell_type": "code",
   "execution_count": 25,
   "metadata": {},
   "outputs": [
    {
     "name": "stdout",
     "output_type": "stream",
     "text": [
      "rf accuracy: 0.967\n"
     ]
    }
   ],
   "source": [
    "# Create, fit and calculate training set accuracy of a random forest with 5 trees\n",
    "# Note: why is this so high?\n",
    "from sklearn.ensemble import RandomForestClassifier\n",
    "\n",
    "rf = RandomForestClassifier(n_estimators=5).fit(X_train_c,y_train_c)\n",
    "print('rf accuracy: {:.3f}'.format(rf.score(X_train_c,y_train_c)))"
   ]
  },
  {
   "cell_type": "code",
   "execution_count": 26,
   "metadata": {},
   "outputs": [
    {
     "name": "stdout",
     "output_type": "stream",
     "text": [
      "mean cv accuracy: 0.786\n"
     ]
    }
   ],
   "source": [
    "# Calculate mean 5-fold cross validation accuracy of a random forest with 5 trees on the training set\n",
    "# Note that it should be less than the accuracy when trained on the full training set\n",
    "scores = cross_val_score(rf,X_train_c,y_train_c,cv=5)\n",
    "print('mean cv accuracy: {:.3f}'.format(np.mean(scores)))"
   ]
  },
  {
   "cell_type": "markdown",
   "metadata": {},
   "source": [
    "### Model selection"
   ]
  },
  {
   "cell_type": "code",
   "execution_count": 27,
   "metadata": {
    "collapsed": true
   },
   "outputs": [],
   "source": [
    "# Perform cross validated grid search over the number of trees in [1,5,10] using the training set\n",
    "params = {'n_estimators':[1,5,10]}\n",
    "\n",
    "gs = GridSearchCV(RandomForestClassifier(),params).fit(X_train_c,y_train_c)"
   ]
  },
  {
   "cell_type": "code",
   "execution_count": 28,
   "metadata": {},
   "outputs": [
    {
     "name": "stdout",
     "output_type": "stream",
     "text": [
      "gs best accuracy: 0.980\n",
      "gs best params  : {'n_estimators': 10}\n"
     ]
    }
   ],
   "source": [
    "# Print out the best score found and the best parameter setting found\n",
    "print('gs best accuracy: {:.3f}'.format(gs.best_estimator_.score(X_train_c,y_train_c)))\n",
    "print('gs best params  : {}'.format(gs.best_params_))\n"
   ]
  },
  {
   "cell_type": "code",
   "execution_count": 29,
   "metadata": {
    "collapsed": true
   },
   "outputs": [],
   "source": [
    "# Retrain on the entire training set using the best number of trees found\n",
    "rf = RandomForestClassifier(n_estimators= 10).fit(X_train_c,y_train_c)"
   ]
  },
  {
   "cell_type": "code",
   "execution_count": 30,
   "metadata": {
    "collapsed": true
   },
   "outputs": [],
   "source": [
    "# get p(y=1|x) for the entire training set\n",
    "# hint: py_pos should only contain one column\n",
    "py_pos = rf.predict_proba(X_train_c)[:,1]"
   ]
  },
  {
   "cell_type": "code",
   "execution_count": 31,
   "metadata": {},
   "outputs": [
    {
     "data": {
      "image/png": "[encoded data removed]",
      "text/plain": [
       "<matplotlib.figure.Figure at 0x129fd28f320>"
      ]
     },
     "metadata": {},
     "output_type": "display_data"
    }
   ],
   "source": [
    "# Plot Precision (y-axis) vs. Recall (x-axis) using the targets and py_pos \n",
    "# The plot should indicate a good fit at almost any classification threshold\n",
    "from sklearn.metrics import precision_recall_curve\n",
    "\n",
    "precision, recall, _ = precision_recall_curve(y_train_c, py_pos)\n",
    "\n",
    "_ = plt.step(recall,precision)\n",
    "_ = plt.xlabel('recall')\n",
    "_ = plt.ylabel('precision')"
   ]
  },
  {
   "cell_type": "markdown",
   "metadata": {},
   "source": [
    "### Evaluate model performance on the Test set"
   ]
  },
  {
   "cell_type": "code",
   "execution_count": 32,
   "metadata": {},
   "outputs": [
    {
     "name": "stdout",
     "output_type": "stream",
     "text": [
      "test accuracy: 0.794\n"
     ]
    }
   ],
   "source": [
    "# Calculate accuracy of the trained model on the test set\n",
    "# Note that it should not be far from the cv training set accuracy\n",
    "print('test accuracy: {:.3f}'.format(rf.score(X_test_c,y_test_c)))"
   ]
  },
  {
   "cell_type": "markdown",
   "metadata": {},
   "source": [
    "### Feature selection"
   ]
  },
  {
   "cell_type": "code",
   "execution_count": 33,
   "metadata": {
    "collapsed": true
   },
   "outputs": [],
   "source": [
    "# Select the most informative features using SelectFromModel using 'mean' as threshold using the trained model\n",
    "# note: this may select more than 2 features\n",
    "# note: we use prefit=True since the model is already trained\n",
    "from sklearn.feature_selection import SelectFromModel\n",
    "\n",
    "sfm = SelectFromModel(rf, threshold='mean', prefit=True)"
   ]
  },
  {
   "cell_type": "code",
   "execution_count": 34,
   "metadata": {},
   "outputs": [
    {
     "name": "stdout",
     "output_type": "stream",
     "text": [
      "kept columns: ['SqFtTotLiving', 'SqFtLot']\n"
     ]
    }
   ],
   "source": [
    "# print out the selected features using sfm.get_support() and columns from X \n",
    "kept_columns = list(X.columns[sfm.get_support()])\n",
    "print('kept columns: {}'.format(kept_columns))"
   ]
  },
  {
   "cell_type": "code",
   "execution_count": 35,
   "metadata": {
    "collapsed": true
   },
   "outputs": [],
   "source": [
    "# transform X_train_c into a new X containing only the selected features\n",
    "X_train_c_fs = X_train_c[kept_columns]"
   ]
  },
  {
   "cell_type": "code",
   "execution_count": 36,
   "metadata": {
    "collapsed": true
   },
   "outputs": [],
   "source": [
    "# Train a new model on the new X using the previously found best setting for n_estimators\n",
    "rf_fs = RandomForestClassifier(n_estimators= 10).fit(X_train_c_fs,y_train_c)"
   ]
  },
  {
   "cell_type": "code",
   "execution_count": 37,
   "metadata": {
    "collapsed": true
   },
   "outputs": [],
   "source": [
    "# Predict P(y=1|x) using the new model\n",
    "py_pos_fs = rf_fs.predict_proba(X_train_c_fs)[:,1]"
   ]
  },
  {
   "cell_type": "code",
   "execution_count": 38,
   "metadata": {},
   "outputs": [
    {
     "data": {
      "image/png": "[encoded data removed]",
      "text/plain": [
       "<matplotlib.figure.Figure at 0x1298274ecf8>"
      ]
     },
     "metadata": {},
     "output_type": "display_data"
    }
   ],
   "source": [
    "# Plot the ROC curves of the old model and the new model on the same plot\n",
    "# Note that the full model is only a slight improvement on the model with fewer features\n",
    "from sklearn.metrics import roc_curve\n",
    "\n",
    "fpr,tpr,_ = roc_curve(y_train_c, py_pos)\n",
    "fpr_fs,tpr_fs,_ = roc_curve(y_train_c, py_pos_fs)\n",
    "\n",
    "_ = plt.step(fpr,tpr,color='blue')\n",
    "_ = plt.step(fpr_fs,tpr_fs,color='red')\n",
    "_ = plt.xlabel('fpr')\n",
    "_ = plt.ylabel('tpr')"
   ]
  },
  {
   "cell_type": "code",
   "execution_count": 39,
   "metadata": {},
   "outputs": [
    {
     "name": "stdout",
     "output_type": "stream",
     "text": [
      "full model auc: 0.998\n",
      "fs model auc  : 0.995\n"
     ]
    }
   ],
   "source": [
    "# Confirm that the new and old models are similar by calculating their ROC AUC values on the training set\n",
    "# hint: use the py_pos you predicted for both models\n",
    "from sklearn.metrics import roc_auc_score\n",
    "\n",
    "full_model_auc = roc_auc_score(y_train_c, py_pos)\n",
    "fs_model_auc = roc_auc_score(y_train_c, py_pos_fs)\n",
    "print('full model auc: {:.3f}'.format(full_model_auc))\n",
    "print('fs model auc  : {:.3f}'.format(fs_model_auc))"
   ]
  }
 ],
 "metadata": {
  "kernelspec": {
   "display_name": "Python 3",
   "language": "python",
   "name": "python3"
  },
  "language_info": {
   "codemirror_mode": {
    "name": "ipython",
    "version": 3
   },
   "file_extension": ".py",
   "mimetype": "text/x-python",
   "name": "python",
   "nbconvert_exporter": "python",
   "pygments_lexer": "ipython3",
   "version": "3.6.1"
  }
 },
 "nbformat": 4,
 "nbformat_minor": 2
}
